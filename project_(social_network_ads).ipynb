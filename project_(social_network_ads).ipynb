{
  "nbformat": 4,
  "nbformat_minor": 0,
  "metadata": {
    "colab": {
      "provenance": []
    },
    "kernelspec": {
      "name": "python3",
      "display_name": "Python 3"
    },
    "language_info": {
      "name": "python"
    }
  },
  "cells": [
    {
      "cell_type": "code",
      "source": [
        "# Import libraries\n",
        "import pandas as pd\n",
        "import numpy as np\n",
        "from sklearn.model_selection import train_test_split\n",
        "from sklearn.preprocessing import StandardScaler\n",
        "from sklearn.linear_model import LogisticRegression\n",
        "from sklearn.svm import SVC\n",
        "from sklearn.metrics import accuracy_score\n",
        "\n",
        "# Generate synthetic Social Network Ads-like dataset\n",
        "np.random.seed(0)\n",
        "data = {\n",
        "    'Age': np.random.randint(18, 60, 400),\n",
        "    'EstimatedSalary': np.random.randint(15000, 150000, 400),\n",
        "}\n",
        "\n",
        "# Add some non-linearity to the target variable\n",
        "df = pd.DataFrame(data)\n",
        "df['Purchased'] = ((df['Age'] > 30) & (df['EstimatedSalary'] > 60000)).astype(int)\n",
        "\n",
        "# Add noise to confuse linear models a bit\n",
        "noise = np.random.binomial(1, 0.1, 400)\n",
        "df['Purchased'] = df['Purchased'] ^ noise  # Flip some labels randomly\n",
        "\n",
        "# Features and target\n",
        "X = df[['Age', 'EstimatedSalary']].values\n",
        "y = df['Purchased'].values\n",
        "\n",
        "# Train-test split\n",
        "X_train, X_test, y_train, y_test = train_test_split(X, y, test_size=0.25, random_state=42)\n",
        "\n",
        "# Feature scaling\n",
        "scaler = StandardScaler()\n",
        "X_train = scaler.fit_transform(X_train)\n",
        "X_test = scaler.transform(X_test)\n",
        "\n",
        "# Classifier 1: Logistic Regression\n",
        "lr_model = LogisticRegression()\n",
        "lr_model.fit(X_train, y_train)\n",
        "lr_pred = lr_model.predict(X_test)\n",
        "lr_acc = accuracy_score(y_test, lr_pred)\n",
        "\n",
        "# Classifier 2: SVM with RBF kernel (handles non-linear data better)\n",
        "svm_model = SVC(kernel='rbf')\n",
        "svm_model.fit(X_train, y_train)\n",
        "svm_pred = svm_model.predict(X_test)\n",
        "svm_acc = accuracy_score(y_test, svm_pred)\n",
        "\n",
        "# Print accuracy results\n",
        "print(\"🎯 Model Accuracy Comparison (Same Dataset, Two Classifiers)\")\n",
        "print(f\"Logistic Regression Accuracy: {lr_acc * 100:.2f}%\")\n",
        "print(f\"SVM (RBF Kernel) Accuracy:     {svm_acc * 100:.2f}%\")\n",
        "\n",
        "# Compare and declare the better one\n",
        "if lr_acc > svm_acc:\n",
        "    print(\"✅ Logistic Regression performed better.\")\n",
        "elif svm_acc > lr_acc:\n",
        "    print(\"✅ SVM performed better.\")\n",
        "else:\n",
        "    print(\"⚖️  Both classifiers performed equally well.\")\n"
      ],
      "metadata": {
        "colab": {
          "base_uri": "https://localhost:8080/"
        },
        "id": "Kj5z1-vNsnuh",
        "outputId": "47729867-8090-46be-b874-367d714fde4a"
      },
      "execution_count": null,
      "outputs": [
        {
          "output_type": "stream",
          "name": "stdout",
          "text": [
            "🎯 Model Accuracy Comparison (Same Dataset, Two Classifiers)\n",
            "Logistic Regression Accuracy: 75.00%\n",
            "SVM (RBF Kernel) Accuracy:     81.00%\n",
            "✅ SVM performed better.\n"
          ]
        }
      ]
    },
    {
      "cell_type": "markdown",
      "source": [
        "# New Section"
      ],
      "metadata": {
        "id": "aJFgLFOTus2A"
      }
    }
  ]
}